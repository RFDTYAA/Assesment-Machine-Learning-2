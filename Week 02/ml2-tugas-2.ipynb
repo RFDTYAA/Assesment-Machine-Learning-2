{
 "cells": [
  {
   "cell_type": "code",
   "execution_count": 1,
   "id": "83b753e4",
   "metadata": {
    "_cell_guid": "b1076dfc-b9ad-4769-8c92-a6c4dae69d19",
    "_uuid": "8f2839f25d086af736a60e9eeb907d3b93b6e0e5",
    "execution": {
     "iopub.execute_input": "2025-05-13T06:20:39.349093Z",
     "iopub.status.busy": "2025-05-13T06:20:39.348796Z",
     "iopub.status.idle": "2025-05-13T06:20:47.926622Z",
     "shell.execute_reply": "2025-05-13T06:20:47.925759Z"
    },
    "papermill": {
     "duration": 8.584589,
     "end_time": "2025-05-13T06:20:47.928407",
     "exception": false,
     "start_time": "2025-05-13T06:20:39.343818",
     "status": "completed"
    },
    "tags": []
   },
   "outputs": [],
   "source": [
    "import pandas as pd\n",
    "import torch\n",
    "import torch.nn as nn\n",
    "from sklearn.model_selection import train_test_split\n",
    "from sklearn.preprocessing import LabelEncoder, StandardScaler\n",
    "from sklearn.metrics import accuracy_score\n",
    "import matplotlib.pyplot as plt"
   ]
  },
  {
   "cell_type": "markdown",
   "id": "ff8fbb78",
   "metadata": {
    "papermill": {
     "duration": 0.00283,
     "end_time": "2025-05-13T06:20:47.934852",
     "exception": false,
     "start_time": "2025-05-13T06:20:47.932022",
     "status": "completed"
    },
    "tags": []
   },
   "source": []
  },
  {
   "cell_type": "code",
   "execution_count": 2,
   "id": "17df770a",
   "metadata": {
    "execution": {
     "iopub.execute_input": "2025-05-13T06:20:47.942300Z",
     "iopub.status.busy": "2025-05-13T06:20:47.941819Z",
     "iopub.status.idle": "2025-05-13T06:20:47.990973Z",
     "shell.execute_reply": "2025-05-13T06:20:47.990071Z"
    },
    "papermill": {
     "duration": 0.054631,
     "end_time": "2025-05-13T06:20:47.992637",
     "exception": false,
     "start_time": "2025-05-13T06:20:47.938006",
     "status": "completed"
    },
    "tags": []
   },
   "outputs": [
    {
     "data": {
      "text/html": [
       "<div>\n",
       "<style scoped>\n",
       "    .dataframe tbody tr th:only-of-type {\n",
       "        vertical-align: middle;\n",
       "    }\n",
       "\n",
       "    .dataframe tbody tr th {\n",
       "        vertical-align: top;\n",
       "    }\n",
       "\n",
       "    .dataframe thead th {\n",
       "        text-align: right;\n",
       "    }\n",
       "</style>\n",
       "<table border=\"1\" class=\"dataframe\">\n",
       "  <thead>\n",
       "    <tr style=\"text-align: right;\">\n",
       "      <th></th>\n",
       "      <th>sepal_length</th>\n",
       "      <th>sepal_width</th>\n",
       "      <th>petal_length</th>\n",
       "      <th>petal_width</th>\n",
       "      <th>species</th>\n",
       "    </tr>\n",
       "  </thead>\n",
       "  <tbody>\n",
       "    <tr>\n",
       "      <th>0</th>\n",
       "      <td>5.1</td>\n",
       "      <td>3.5</td>\n",
       "      <td>1.4</td>\n",
       "      <td>0.2</td>\n",
       "      <td>Iris-setosa</td>\n",
       "    </tr>\n",
       "    <tr>\n",
       "      <th>1</th>\n",
       "      <td>4.9</td>\n",
       "      <td>3.0</td>\n",
       "      <td>1.4</td>\n",
       "      <td>0.2</td>\n",
       "      <td>Iris-setosa</td>\n",
       "    </tr>\n",
       "    <tr>\n",
       "      <th>2</th>\n",
       "      <td>4.7</td>\n",
       "      <td>3.2</td>\n",
       "      <td>1.3</td>\n",
       "      <td>0.2</td>\n",
       "      <td>Iris-setosa</td>\n",
       "    </tr>\n",
       "    <tr>\n",
       "      <th>3</th>\n",
       "      <td>4.6</td>\n",
       "      <td>3.1</td>\n",
       "      <td>1.5</td>\n",
       "      <td>0.2</td>\n",
       "      <td>Iris-setosa</td>\n",
       "    </tr>\n",
       "    <tr>\n",
       "      <th>4</th>\n",
       "      <td>5.0</td>\n",
       "      <td>3.6</td>\n",
       "      <td>1.4</td>\n",
       "      <td>0.2</td>\n",
       "      <td>Iris-setosa</td>\n",
       "    </tr>\n",
       "  </tbody>\n",
       "</table>\n",
       "</div>"
      ],
      "text/plain": [
       "   sepal_length  sepal_width  petal_length  petal_width      species\n",
       "0           5.1          3.5           1.4          0.2  Iris-setosa\n",
       "1           4.9          3.0           1.4          0.2  Iris-setosa\n",
       "2           4.7          3.2           1.3          0.2  Iris-setosa\n",
       "3           4.6          3.1           1.5          0.2  Iris-setosa\n",
       "4           5.0          3.6           1.4          0.2  Iris-setosa"
      ]
     },
     "execution_count": 2,
     "metadata": {},
     "output_type": "execute_result"
    }
   ],
   "source": [
    "# Load dataset\n",
    "df = pd.read_csv(\"/kaggle/input/iris-flower-dataset/IRIS.csv\")\n",
    "df.head()\n"
   ]
  },
  {
   "cell_type": "markdown",
   "id": "032ea3bb",
   "metadata": {
    "papermill": {
     "duration": 0.002951,
     "end_time": "2025-05-13T06:20:47.998910",
     "exception": false,
     "start_time": "2025-05-13T06:20:47.995959",
     "status": "completed"
    },
    "tags": []
   },
   "source": []
  },
  {
   "cell_type": "code",
   "execution_count": 3,
   "id": "306e0b29",
   "metadata": {
    "execution": {
     "iopub.execute_input": "2025-05-13T06:20:48.006996Z",
     "iopub.status.busy": "2025-05-13T06:20:48.006055Z",
     "iopub.status.idle": "2025-05-13T06:20:48.058705Z",
     "shell.execute_reply": "2025-05-13T06:20:48.057660Z"
    },
    "papermill": {
     "duration": 0.058426,
     "end_time": "2025-05-13T06:20:48.060506",
     "exception": false,
     "start_time": "2025-05-13T06:20:48.002080",
     "status": "completed"
    },
    "tags": []
   },
   "outputs": [],
   "source": [
    "# Encode target labels\n",
    "le = LabelEncoder()\n",
    "df['species'] = le.fit_transform(df['species'])\n",
    "\n",
    "# Fitur dan target\n",
    "X = df.drop('species', axis=1)\n",
    "y = df['species']\n",
    "\n",
    "# Normalisasi fitur\n",
    "scaler = StandardScaler()\n",
    "X_scaled = scaler.fit_transform(X)\n",
    "\n",
    "# Train-test split\n",
    "X_train, X_test, y_train, y_test = train_test_split(X_scaled, y, test_size=0.2, random_state=42)\n",
    "\n",
    "# Ubah ke tensor\n",
    "X_train = torch.tensor(X_train, dtype=torch.float32)\n",
    "X_test = torch.tensor(X_test, dtype=torch.float32)\n",
    "y_train = torch.tensor(y_train.values, dtype=torch.long)\n",
    "y_test = torch.tensor(y_test.values, dtype=torch.long)"
   ]
  },
  {
   "cell_type": "markdown",
   "id": "cdce0a6d",
   "metadata": {
    "papermill": {
     "duration": 0.002865,
     "end_time": "2025-05-13T06:20:48.066631",
     "exception": false,
     "start_time": "2025-05-13T06:20:48.063766",
     "status": "completed"
    },
    "tags": []
   },
   "source": []
  },
  {
   "cell_type": "code",
   "execution_count": 4,
   "id": "9a6ef97d",
   "metadata": {
    "execution": {
     "iopub.execute_input": "2025-05-13T06:20:48.074358Z",
     "iopub.status.busy": "2025-05-13T06:20:48.074027Z",
     "iopub.status.idle": "2025-05-13T06:20:48.079307Z",
     "shell.execute_reply": "2025-05-13T06:20:48.078567Z"
    },
    "papermill": {
     "duration": 0.010744,
     "end_time": "2025-05-13T06:20:48.080729",
     "exception": false,
     "start_time": "2025-05-13T06:20:48.069985",
     "status": "completed"
    },
    "tags": []
   },
   "outputs": [],
   "source": [
    "class IrisMLP(nn.Module):\n",
    "    def __init__(self):\n",
    "        super(IrisMLP, self).__init__()\n",
    "        self.model = nn.Sequential(\n",
    "            nn.Linear(4, 10),\n",
    "            nn.ReLU(),\n",
    "            nn.Linear(10, 3)\n",
    "        )\n",
    "\n",
    "    def forward(self, x):\n",
    "        return self.model(x)"
   ]
  },
  {
   "cell_type": "markdown",
   "id": "951c17c7",
   "metadata": {
    "papermill": {
     "duration": 0.002894,
     "end_time": "2025-05-13T06:20:48.086971",
     "exception": false,
     "start_time": "2025-05-13T06:20:48.084077",
     "status": "completed"
    },
    "tags": []
   },
   "source": []
  },
  {
   "cell_type": "code",
   "execution_count": 5,
   "id": "919fe353",
   "metadata": {
    "execution": {
     "iopub.execute_input": "2025-05-13T06:20:48.095053Z",
     "iopub.status.busy": "2025-05-13T06:20:48.094070Z",
     "iopub.status.idle": "2025-05-13T06:20:54.027357Z",
     "shell.execute_reply": "2025-05-13T06:20:54.026447Z"
    },
    "papermill": {
     "duration": 5.939175,
     "end_time": "2025-05-13T06:20:54.029315",
     "exception": false,
     "start_time": "2025-05-13T06:20:48.090140",
     "status": "completed"
    },
    "tags": []
   },
   "outputs": [
    {
     "name": "stdout",
     "output_type": "stream",
     "text": [
      "Epoch [10/100], Loss: 1.0140\n",
      "Epoch [20/100], Loss: 0.7846\n",
      "Epoch [30/100], Loss: 0.5275\n",
      "Epoch [40/100], Loss: 0.3593\n",
      "Epoch [50/100], Loss: 0.2640\n",
      "Epoch [60/100], Loss: 0.1976\n",
      "Epoch [70/100], Loss: 0.1503\n",
      "Epoch [80/100], Loss: 0.1191\n",
      "Epoch [90/100], Loss: 0.0994\n",
      "Epoch [100/100], Loss: 0.0865\n"
     ]
    }
   ],
   "source": [
    "model = IrisMLP()\n",
    "criterion = nn.CrossEntropyLoss()\n",
    "optimizer = torch.optim.Adam(model.parameters(), lr=0.01)\n",
    "\n",
    "# Training loop\n",
    "epochs = 100\n",
    "losses = []\n",
    "for epoch in range(epochs):\n",
    "    outputs = model(X_train)\n",
    "    loss = criterion(outputs, y_train)\n",
    "    losses.append(loss.item())\n",
    "\n",
    "    optimizer.zero_grad()\n",
    "    loss.backward()\n",
    "    optimizer.step()\n",
    "\n",
    "    if (epoch+1) % 10 == 0:\n",
    "        print(f\"Epoch [{epoch+1}/{epochs}], Loss: {loss.item():.4f}\")"
   ]
  },
  {
   "cell_type": "markdown",
   "id": "1e79dc62",
   "metadata": {
    "papermill": {
     "duration": 0.003012,
     "end_time": "2025-05-13T06:20:54.035961",
     "exception": false,
     "start_time": "2025-05-13T06:20:54.032949",
     "status": "completed"
    },
    "tags": []
   },
   "source": []
  },
  {
   "cell_type": "code",
   "execution_count": 6,
   "id": "fbcc7051",
   "metadata": {
    "execution": {
     "iopub.execute_input": "2025-05-13T06:20:54.044232Z",
     "iopub.status.busy": "2025-05-13T06:20:54.043744Z",
     "iopub.status.idle": "2025-05-13T06:20:54.284077Z",
     "shell.execute_reply": "2025-05-13T06:20:54.283172Z"
    },
    "papermill": {
     "duration": 0.246133,
     "end_time": "2025-05-13T06:20:54.285539",
     "exception": false,
     "start_time": "2025-05-13T06:20:54.039406",
     "status": "completed"
    },
    "tags": []
   },
   "outputs": [
    {
     "data": {
      "image/png": "[encoded data removed]",
      "text/plain": [
       "<Figure size 640x480 with 1 Axes>"
      ]
     },
     "metadata": {},
     "output_type": "display_data"
    }
   ],
   "source": [
    "plt.plot(losses)\n",
    "plt.xlabel(\"Epoch\")\n",
    "plt.ylabel(\"Loss\")\n",
    "plt.title(\"Training Loss\")\n",
    "plt.show()"
   ]
  },
  {
   "cell_type": "markdown",
   "id": "a27e1f47",
   "metadata": {
    "papermill": {
     "duration": 0.003383,
     "end_time": "2025-05-13T06:20:54.292674",
     "exception": false,
     "start_time": "2025-05-13T06:20:54.289291",
     "status": "completed"
    },
    "tags": []
   },
   "source": []
  },
  {
   "cell_type": "code",
   "execution_count": 7,
   "id": "fc808fe4",
   "metadata": {
    "execution": {
     "iopub.execute_input": "2025-05-13T06:20:54.301441Z",
     "iopub.status.busy": "2025-05-13T06:20:54.300686Z",
     "iopub.status.idle": "2025-05-13T06:20:54.309307Z",
     "shell.execute_reply": "2025-05-13T06:20:54.308258Z"
    },
    "papermill": {
     "duration": 0.014664,
     "end_time": "2025-05-13T06:20:54.310946",
     "exception": false,
     "start_time": "2025-05-13T06:20:54.296282",
     "status": "completed"
    },
    "tags": []
   },
   "outputs": [
    {
     "name": "stdout",
     "output_type": "stream",
     "text": [
      "Akurasi pada data test: 0.9666666666666667\n"
     ]
    }
   ],
   "source": [
    "with torch.no_grad():\n",
    "    test_outputs = model(X_test)\n",
    "    _, predicted = torch.max(test_outputs, 1)\n",
    "    acc = accuracy_score(y_test, predicted)\n",
    "    print(\"Akurasi pada data test:\", acc)"
   ]
  },
  {
   "cell_type": "markdown",
   "id": "194bbd3b",
   "metadata": {
    "papermill": {
     "duration": 0.003439,
     "end_time": "2025-05-13T06:20:54.318181",
     "exception": false,
     "start_time": "2025-05-13T06:20:54.314742",
     "status": "completed"
    },
    "tags": []
   },
   "source": []
  },
  {
   "cell_type": "code",
   "execution_count": 8,
   "id": "4832a50b",
   "metadata": {
    "execution": {
     "iopub.execute_input": "2025-05-13T06:20:54.327163Z",
     "iopub.status.busy": "2025-05-13T06:20:54.326168Z",
     "iopub.status.idle": "2025-05-13T06:20:54.450309Z",
     "shell.execute_reply": "2025-05-13T06:20:54.448452Z"
    },
    "papermill": {
     "duration": 0.130436,
     "end_time": "2025-05-13T06:20:54.452159",
     "exception": false,
     "start_time": "2025-05-13T06:20:54.321723",
     "status": "completed"
    },
    "tags": []
   },
   "outputs": [
    {
     "name": "stdout",
     "output_type": "stream",
     "text": [
      "Akurasi Logistic Regression: 1.0\n"
     ]
    }
   ],
   "source": [
    "from sklearn.linear_model import LogisticRegression\n",
    "\n",
    "lr_model = LogisticRegression(max_iter=200)\n",
    "lr_model.fit(X_train, y_train)\n",
    "lr_preds = lr_model.predict(X_test)\n",
    "\n",
    "lr_acc = accuracy_score(y_test, lr_preds)\n",
    "print(\"Akurasi Logistic Regression:\", lr_acc)"
   ]
  },
  {
   "cell_type": "markdown",
   "id": "5e3b7abf",
   "metadata": {
    "papermill": {
     "duration": 0.005627,
     "end_time": "2025-05-13T06:20:54.463709",
     "exception": false,
     "start_time": "2025-05-13T06:20:54.458082",
     "status": "completed"
    },
    "tags": []
   },
   "source": []
  },
  {
   "cell_type": "code",
   "execution_count": 9,
   "id": "cbb3b488",
   "metadata": {
    "execution": {
     "iopub.execute_input": "2025-05-13T06:20:54.477013Z",
     "iopub.status.busy": "2025-05-13T06:20:54.476412Z",
     "iopub.status.idle": "2025-05-13T06:20:54.482821Z",
     "shell.execute_reply": "2025-05-13T06:20:54.482142Z"
    },
    "papermill": {
     "duration": 0.014771,
     "end_time": "2025-05-13T06:20:54.484279",
     "exception": false,
     "start_time": "2025-05-13T06:20:54.469508",
     "status": "completed"
    },
    "tags": []
   },
   "outputs": [],
   "source": [
    "torch.save(model.state_dict(), \"model.pth\")"
   ]
  }
 ],
 "metadata": {
  "kaggle": {
   "accelerator": "none",
   "dataSources": [
    {
     "datasetId": 17860,
     "sourceId": 23404,
     "sourceType": "datasetVersion"
    }
   ],
   "dockerImageVersionId": 31040,
   "isGpuEnabled": false,
   "isInternetEnabled": false,
   "language": "python",
   "sourceType": "notebook"
  },
  "kernelspec": {
   "display_name": "Python 3",
   "language": "python",
   "name": "python3"
  },
  "language_info": {
   "codemirror_mode": {
    "name": "ipython",
    "version": 3
   },
   "file_extension": ".py",
   "mimetype": "text/x-python",
   "name": "python",
   "nbconvert_exporter": "python",
   "pygments_lexer": "ipython3",
   "version": "3.11.11"
  },
  "papermill": {
   "default_parameters": {},
   "duration": 23.165466,
   "end_time": "2025-05-13T06:20:57.649920",
   "environment_variables": {},
   "exception": null,
   "input_path": "__notebook__.ipynb",
   "output_path": "__notebook__.ipynb",
   "parameters": {},
   "start_time": "2025-05-13T06:20:34.484454",
   "version": "2.6.0"
  }
 },
 "nbformat": 4,
 "nbformat_minor": 5
}
